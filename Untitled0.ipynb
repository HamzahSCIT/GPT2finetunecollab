{
  "nbformat": 4,
  "nbformat_minor": 0,
  "metadata": {
    "colab": {
      "name": "Untitled0.ipynb",
      "provenance": [],
      "collapsed_sections": [],
      "authorship_tag": "ABX9TyODE2snHxIFB3vioI+G2sLd",
      "include_colab_link": true
    },
    "kernelspec": {
      "name": "python3",
      "display_name": "Python 3"
    },
    "accelerator": "GPU"
  },
  "cells": [
    {
      "cell_type": "markdown",
      "metadata": {
        "id": "view-in-github",
        "colab_type": "text"
      },
      "source": [
        "<a href=\"https://colab.research.google.com/github/HamzahSCIT/GPT2finetunecollab/blob/main/Untitled0.ipynb\" target=\"_parent\"><img src=\"https://colab.research.google.com/assets/colab-badge.svg\" alt=\"Open In Colab\"/></a>"
      ]
    },
    {
      "cell_type": "code",
      "metadata": {
        "colab": {
          "base_uri": "https://localhost:8080/"
        },
        "id": "kmFVO4nfKthA",
        "outputId": "bdf74d7c-2914-46f1-aacb-53b76a934aea"
      },
      "source": [
        "%tensorflow_version 1.x\r\n",
        "!pip install gpt-2-simple\r\n",
        "import gpt_2_simple as gpt2"
      ],
      "execution_count": 1,
      "outputs": [
        {
          "output_type": "stream",
          "text": [
            "TensorFlow 1.x selected.\n",
            "Collecting gpt-2-simple\n",
            "  Downloading https://files.pythonhosted.org/packages/6f/e4/a90add0c3328eed38a46c3ed137f2363b5d6a07bf13ee5d5d4d1e480b8c3/gpt_2_simple-0.7.1.tar.gz\n",
            "Requirement already satisfied: regex in /usr/local/lib/python3.6/dist-packages (from gpt-2-simple) (2019.12.20)\n",
            "Requirement already satisfied: requests in /usr/local/lib/python3.6/dist-packages (from gpt-2-simple) (2.23.0)\n",
            "Requirement already satisfied: tqdm in /usr/local/lib/python3.6/dist-packages (from gpt-2-simple) (4.41.1)\n",
            "Requirement already satisfied: numpy in /usr/local/lib/python3.6/dist-packages (from gpt-2-simple) (1.18.5)\n",
            "Collecting toposort\n",
            "  Downloading https://files.pythonhosted.org/packages/e9/8a/321cd8ea5f4a22a06e3ba30ef31ec33bea11a3443eeb1d89807640ee6ed4/toposort-1.5-py2.py3-none-any.whl\n",
            "Requirement already satisfied: idna<3,>=2.5 in /usr/local/lib/python3.6/dist-packages (from requests->gpt-2-simple) (2.10)\n",
            "Requirement already satisfied: chardet<4,>=3.0.2 in /usr/local/lib/python3.6/dist-packages (from requests->gpt-2-simple) (3.0.4)\n",
            "Requirement already satisfied: urllib3!=1.25.0,!=1.25.1,<1.26,>=1.21.1 in /usr/local/lib/python3.6/dist-packages (from requests->gpt-2-simple) (1.24.3)\n",
            "Requirement already satisfied: certifi>=2017.4.17 in /usr/local/lib/python3.6/dist-packages (from requests->gpt-2-simple) (2020.12.5)\n",
            "Building wheels for collected packages: gpt-2-simple\n",
            "  Building wheel for gpt-2-simple (setup.py) ... \u001b[?25l\u001b[?25hdone\n",
            "  Created wheel for gpt-2-simple: filename=gpt_2_simple-0.7.1-cp36-none-any.whl size=23579 sha256=af9fc74dc2393161e32facb49e0a86df8ddd9765186fe5e395efc9a08042319e\n",
            "  Stored in directory: /root/.cache/pip/wheels/0c/f8/23/b53ce437504597edff76bf9c3b8de08ad716f74f6c6baaa91a\n",
            "Successfully built gpt-2-simple\n",
            "Installing collected packages: toposort, gpt-2-simple\n",
            "Successfully installed gpt-2-simple-0.7.1 toposort-1.5\n",
            "WARNING:tensorflow:\n",
            "The TensorFlow contrib module will not be included in TensorFlow 2.0.\n",
            "For more information, please see:\n",
            "  * https://github.com/tensorflow/community/blob/master/rfcs/20180907-contrib-sunset.md\n",
            "  * https://github.com/tensorflow/addons\n",
            "  * https://github.com/tensorflow/io (for I/O related ops)\n",
            "If you depend on functionality not listed there, please file an issue.\n",
            "\n"
          ],
          "name": "stdout"
        }
      ]
    },
    {
      "cell_type": "code",
      "metadata": {
        "colab": {
          "base_uri": "https://localhost:8080/"
        },
        "id": "OovwuPtWLBus",
        "outputId": "89cf40a0-70ec-4d35-bcf3-3ce2ac2aba8c"
      },
      "source": [
        "gpt2.download_gpt2(model_name=\"124M\")"
      ],
      "execution_count": 2,
      "outputs": [
        {
          "output_type": "stream",
          "text": [
            "Fetching checkpoint: 1.05Mit [00:00, 406Mit/s]                                                      \n",
            "Fetching encoder.json: 1.05Mit [00:00, 64.3Mit/s]                                                   \n",
            "Fetching hparams.json: 1.05Mit [00:00, 320Mit/s]                                                    \n",
            "Fetching model.ckpt.data-00000-of-00001: 498Mit [00:02, 169Mit/s]                                   \n",
            "Fetching model.ckpt.index: 1.05Mit [00:00, 812Mit/s]                                                \n",
            "Fetching model.ckpt.meta: 1.05Mit [00:00, 126Mit/s]                                                 \n",
            "Fetching vocab.bpe: 1.05Mit [00:00, 153Mit/s]                                                       \n"
          ],
          "name": "stderr"
        }
      ]
    },
    {
      "cell_type": "code",
      "metadata": {
        "id": "K2s5H4j2LOmP"
      },
      "source": [
        "file_name = \"descriptions.csv\""
      ],
      "execution_count": 4,
      "outputs": []
    },
    {
      "cell_type": "code",
      "metadata": {
        "colab": {
          "base_uri": "https://localhost:8080/"
        },
        "id": "kPg-yCX7Mf3N",
        "outputId": "af29525e-86a1-44fc-fa5a-67d6df327e8b"
      },
      "source": [
        "sess = gpt2.start_tf_sess()\r\n",
        "\r\n",
        "gpt2.finetune(sess,\r\n",
        "              dataset=file_name,\r\n",
        "              model_name=\"124M\",\r\n",
        "              steps=200,\r\n",
        "              restore_from='fresh',\r\n",
        "              run_name='run1',\r\n",
        "              print_every=10,\r\n",
        "              sample_every=20,\r\n",
        "              save_every=20\r\n",
        "              )"
      ],
      "execution_count": 5,
      "outputs": [
        {
          "output_type": "stream",
          "text": [
            "interrupted\n",
            "Saving checkpoint/run1/model-109\n"
          ],
          "name": "stdout"
        }
      ]
    },
    {
      "cell_type": "code",
      "metadata": {
        "colab": {
          "base_uri": "https://localhost:8080/"
        },
        "id": "MhFpsSozNMoy",
        "outputId": "08573f85-edaf-4bed-90f5-b7cfa4ad4bc9"
      },
      "source": [
        "gpt2.generate(sess,\r\n",
        "              length=60,\r\n",
        "              temperature=0.7,\r\n",
        "              prefix=\"<|startoftext|>\",\r\n",
        "              truncate=\"<|endoftext|>\",\r\n",
        "              nsamples=10,\r\n",
        "              batch_size=5,\r\n",
        "              top_k=40\r\n",
        "              )"
      ],
      "execution_count": 8,
      "outputs": [
        {
          "output_type": "stream",
          "text": [
            "<|startoftext|>The Barbour International Padded Jacket features a Waterproof laminated zip front, funnel neckline, adjustable hood with shockcord, kissing four-button cuffs and a tartan patterned detachable inner lining. A Waterproof waterproof lining with bonded seams, Waterproof coating and bonded seams means\n",
            "====================\n",
            "<|startoftext|>Teaming up with Ben and Marina Fogle to create practical, adventure-friendly fashion pieces, The Barbour Fogle Wilderness collection is designed to inspire us with every step in the great outdoors.Made to a baffle quilted design from a soft poly-cotton blend fabric, this g\n",
            "====================\n",
            "<|startoftext|>The Amhurst Jacket is a classic tailoring piece.Tailored to a slightly shorter length in a straight, narrow cut for classic tailoring, the warm, pliant silhouette is cut to a mid length to give a classic, everyday feel to the classic Amhurst jumper.Complete with a full\n",
            "====================\n",
            "<|startoftext|>Helly Tech Protection provides waterproof, windproof and breathable protection60g Primaloft Insulation keeps you warm in the wettest conditionsTwo front cargo pockets and one Chest Napoleon pocketkeep essentials safeAdjustable hood allows you to adapt to conditions around youThe clue's in the name: utility.\n",
            "====================\n",
            "<|startoftext|>All-weather ready, the Rainseries jacket from Reiss is packed with cutting edge technology that is sure to keep you warm. Its reflective placket provides a timeless look, while two hand pockets adorn the chest and sides to finish off the slick look.\n",
            "====================\n",
            "<|startoftext|>The BOSS Rucksack Lightweight Jacket features a knitted inner chest pocket and armholes that are perfect for keeping shape during the week as well as in the gym. This versatile jacket has been designed to accommodate colder weather.\n",
            "====================\n",
            "<|startoftext|>Helly Tech Protection provides waterproof, windproof and breathable protection60g Primaloft Insulation keeps you warm in the wettest conditionsTwo front cargo pockets and one Chest Napoleon pocketkeep essentials safeAdjustable hood allows you to adapt to conditions around youThe clue's in the name: utility.\n",
            "====================\n",
            "<|startoftext|>The Barbour International Polarquilt jacket is all about warmth and durability. Framed by a hardy wool-rich blend from the countrya, this coat features a detachable faux fur trim with contrasting stitching on the back. Cut to a mid length with a full-zip front and quil\n",
            "====================\n",
            "<|startoftext|>\n",
            "<|startoftext|>A distinguished outerwear classic, this Epsom coat from John Lewis & Partners is a timeless choice for keeping the elements at bay.A versatile layering option, the jacket is fully lined with contrasting stripe at the hem and a button-down fastening to the\n",
            "====================\n",
            "<|startoftext|>Rendered from the same as-named by its original designer, this Carhartt WIP jacket is the perfect throwback to outfit your weekend wardrobe with classic style.Crafted from a luxurious wool and cashmere blend, this coat features a detachable fake leather elbow patch, two small diamond ear\n",
            "====================\n"
          ],
          "name": "stdout"
        }
      ]
    },
    {
      "cell_type": "code",
      "metadata": {
        "id": "wVy2mhwPQGwF"
      },
      "source": [
        ""
      ],
      "execution_count": null,
      "outputs": []
    }
  ]
}